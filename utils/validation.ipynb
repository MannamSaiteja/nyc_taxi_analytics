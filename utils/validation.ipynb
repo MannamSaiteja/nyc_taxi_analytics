{
 "cells": [
  {
   "cell_type": "code",
   "execution_count": 0,
   "metadata": {
    "application/vnd.databricks.v1+cell": {
     "cellMetadata": {
      "byteLimit": 2048000,
      "rowLimit": 10000
     },
     "inputWidgets": {},
     "nuid": "7e49d8c2-9c83-4ef6-ae6c-7a97dff50161",
     "showTitle": false,
     "tableResultSettingsMap": {},
     "title": ""
    }
   },
   "outputs": [],
   "source": [
    "from pyspark.sql import DataFrame\n",
    "from pyspark.sql.functions import *\n",
    "from typing import List, Dict"
   ]
  },
  {
   "cell_type": "code",
   "execution_count": 0,
   "metadata": {
    "application/vnd.databricks.v1+cell": {
     "cellMetadata": {
      "byteLimit": 2048000,
      "rowLimit": 10000
     },
     "inputWidgets": {},
     "nuid": "6259d855-55a9-4ee9-b4c9-375040ece180",
     "showTitle": false,
     "tableResultSettingsMap": {},
     "title": ""
    }
   },
   "outputs": [],
   "source": [
    "def null_check(df: DataFrame) -> DataFrame:\n",
    "    \"\"\"\n",
    "    Returns a DataFrame with null counts for each column.\n",
    "    \"\"\"\n",
    "    return df.select([count(when(col(c).isNull(), c)).alias(f\"{c}_null_count\") for c in df.columns])"
   ]
  },
  {
   "cell_type": "code",
   "execution_count": 0,
   "metadata": {
    "application/vnd.databricks.v1+cell": {
     "cellMetadata": {
      "byteLimit": 2048000,
      "rowLimit": 10000
     },
     "inputWidgets": {},
     "nuid": "d7790613-58bd-483c-b9ec-ac930bbc79f1",
     "showTitle": false,
     "tableResultSettingsMap": {},
     "title": ""
    }
   },
   "outputs": [],
   "source": [
    "def count_rows(df: DataFrame) -> int:\n",
    "    \"\"\"\n",
    "    Returns the number of rows in the DataFrame.\n",
    "    \"\"\"\n",
    "    return df.count()"
   ]
  },
  {
   "cell_type": "code",
   "execution_count": 0,
   "metadata": {
    "application/vnd.databricks.v1+cell": {
     "cellMetadata": {
      "byteLimit": 2048000,
      "rowLimit": 10000
     },
     "inputWidgets": {},
     "nuid": "10b7daac-cd28-4820-a5a5-80c82b9c34ad",
     "showTitle": false,
     "tableResultSettingsMap": {},
     "title": ""
    }
   },
   "outputs": [],
   "source": [
    "def check_value_range(df: DataFrame, column: str, min_val: float, max_val: float) -> DataFrame:\n",
    "    \"\"\"\n",
    "    Returns rows where the column value is outside the expected range.\n",
    "    \"\"\"\n",
    "    return df.filter((col(column) < min_val) | (col(column) > max_val))"
   ]
  },
  {
   "cell_type": "code",
   "execution_count": 0,
   "metadata": {
    "application/vnd.databricks.v1+cell": {
     "cellMetadata": {
      "byteLimit": 2048000,
      "rowLimit": 10000
     },
     "inputWidgets": {},
     "nuid": "a26892ff-6d03-4c35-a8ff-efe5954f86a1",
     "showTitle": false,
     "tableResultSettingsMap": {},
     "title": ""
    }
   },
   "outputs": [],
   "source": [
    "def check_duplicates(df: DataFrame, subset: List[str]) -> DataFrame:\n",
    "    \"\"\"\n",
    "    Returns duplicates based on the specified subset of columns.\n",
    "    \"\"\"\n",
    "    return df.groupBy(subset).count().filter(\"count > 1\")"
   ]
  },
  {
   "cell_type": "code",
   "execution_count": 0,
   "metadata": {
    "application/vnd.databricks.v1+cell": {
     "cellMetadata": {
      "byteLimit": 2048000,
      "rowLimit": 10000
     },
     "inputWidgets": {},
     "nuid": "dc21ccdb-6235-47f7-ad5b-a39b1a6b23f6",
     "showTitle": false,
     "tableResultSettingsMap": {},
     "title": ""
    }
   },
   "outputs": [],
   "source": [
    "def check_column_types(df: DataFrame) -> Dict[str, str]:\n",
    "    \"\"\"\n",
    "    Returns the column names and their data types as a dictionary.\n",
    "    \"\"\"\n",
    "    return {field.name: field.dataType.simpleString() for field in df.schema.fields}"
   ]
  },
  {
   "cell_type": "code",
   "execution_count": 0,
   "metadata": {
    "application/vnd.databricks.v1+cell": {
     "cellMetadata": {
      "byteLimit": 2048000,
      "rowLimit": 10000
     },
     "inputWidgets": {},
     "nuid": "e7174860-7cfb-43a9-a62c-4547ea4d756b",
     "showTitle": false,
     "tableResultSettingsMap": {},
     "title": ""
    }
   },
   "outputs": [],
   "source": [
    "def check_unique_values(df: DataFrame, column: str) -> DataFrame:\n",
    "    \"\"\"\n",
    "    Returns a DataFrame with count of each distinct value in a column.\n",
    "    \"\"\"\n",
    "    return df.groupBy(column).count().orderBy(\"count\", ascending=False)\n"
   ]
  }
 ],
 "metadata": {
  "application/vnd.databricks.v1+notebook": {
   "computePreferences": null,
   "dashboards": [],
   "environmentMetadata": {
    "base_environment": "",
    "environment_version": "2"
   },
   "inputWidgetPreferences": null,
   "language": "python",
   "notebookMetadata": {
    "pythonIndentUnit": 4
   },
   "notebookName": "validation",
   "widgets": {}
  },
  "language_info": {
   "name": "python"
  }
 },
 "nbformat": 4,
 "nbformat_minor": 0
}
