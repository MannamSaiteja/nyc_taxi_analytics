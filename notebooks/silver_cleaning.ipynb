{
 "cells": [
  {
   "cell_type": "code",
   "execution_count": 0,
   "metadata": {
    "application/vnd.databricks.v1+cell": {
     "cellMetadata": {
      "byteLimit": 2048000,
      "rowLimit": 10000
     },
     "inputWidgets": {},
     "nuid": "f2a1dd45-af3b-4f18-b2f9-f7cbf2851040",
     "showTitle": false,
     "tableResultSettingsMap": {},
     "title": ""
    }
   },
   "outputs": [],
   "source": [
    "from pyspark.sql.functions import *\n",
    "from datetime import datetime\n",
    "from delta.tables import DeltaTable"
   ]
  },
  {
   "cell_type": "code",
   "execution_count": 0,
   "metadata": {
    "application/vnd.databricks.v1+cell": {
     "cellMetadata": {
      "byteLimit": 2048000,
      "rowLimit": 10000
     },
     "inputWidgets": {},
     "nuid": "71e8c639-622b-4899-aa27-18b473092266",
     "showTitle": false,
     "tableResultSettingsMap": {},
     "title": ""
    }
   },
   "outputs": [],
   "source": [
    "df_bronze=spark.table('nyc_taxi.bronze.data')"
   ]
  },
  {
   "cell_type": "code",
   "execution_count": 0,
   "metadata": {
    "application/vnd.databricks.v1+cell": {
     "cellMetadata": {
      "byteLimit": 2048000,
      "rowLimit": 10000
     },
     "inputWidgets": {},
     "nuid": "01396e49-1ba1-4dad-bb55-88e8aacb698f",
     "showTitle": false,
     "tableResultSettingsMap": {},
     "title": ""
    }
   },
   "outputs": [],
   "source": [
    "df_cleaned=df_bronze.drop('ehail_fee')"
   ]
  },
  {
   "cell_type": "code",
   "execution_count": 0,
   "metadata": {
    "application/vnd.databricks.v1+cell": {
     "cellMetadata": {
      "byteLimit": 2048000,
      "rowLimit": 10000
     },
     "inputWidgets": {},
     "nuid": "162b1bbf-8c0e-49be-97e1-6543aff23b5c",
     "showTitle": false,
     "tableResultSettingsMap": {},
     "title": ""
    }
   },
   "outputs": [],
   "source": [
    "# filter bad records\n",
    "df_cleaned = df_cleaned.filter(col(\"trip_distance\") > 0)\n",
    "df_cleaned = df_cleaned.filter(col(\"passenger_count\").isNotNull() & (col(\"passenger_count\") > 0))\n",
    "df_cleaned = df_cleaned.filter(col(\"lpep_pickup_datetime\").isNotNull())\n",
    "df_cleaned = df_cleaned.filter(col(\"fare_amount\") >= 0)\n",
    "df_cleaned=df_cleaned.filter(col('trip_type').isNotNull())"
   ]
  },
  {
   "cell_type": "code",
   "execution_count": 0,
   "metadata": {
    "application/vnd.databricks.v1+cell": {
     "cellMetadata": {
      "byteLimit": 2048000,
      "rowLimit": 10000
     },
     "inputWidgets": {},
     "nuid": "edcc9596-6b01-41fe-bb34-adebcbad8b85",
     "showTitle": false,
     "tableResultSettingsMap": {},
     "title": ""
    }
   },
   "outputs": [],
   "source": [
    "# deduplication\n",
    "dedup_cols = [\"VendorID\", \"lpep_pickup_datetime\", \"trip_distance\", \"PULocationID\", \"DOLocationID\"]\n",
    "df_cleaned = df_cleaned.dropDuplicates(subset=dedup_cols)"
   ]
  },
  {
   "cell_type": "code",
   "execution_count": 0,
   "metadata": {
    "application/vnd.databricks.v1+cell": {
     "cellMetadata": {
      "byteLimit": 2048000,
      "rowLimit": 10000
     },
     "inputWidgets": {},
     "nuid": "68d24738-4406-43aa-b7a7-0533dac6d6d4",
     "showTitle": false,
     "tableResultSettingsMap": {},
     "title": ""
    }
   },
   "outputs": [],
   "source": [
    "# enrichments\n",
    "df_cleaned = df_cleaned.withColumn(\"trip_duration_minutes\", \n",
    "                   round((unix_timestamp(\"lpep_dropoff_datetime\") - unix_timestamp(\"lpep_pickup_datetime\")) / 60, 2))\n",
    "\n",
    "df_cleaned = df_cleaned.withColumn(\"trip_speed_mph\", \n",
    "                   round(col(\"trip_distance\") / (col(\"trip_duration_minutes\") / 60), 2))\n",
    "\n",
    "df_cleaned = df_cleaned.withColumn(\"pickup_hour\", hour(\"lpep_pickup_datetime\")) \\\n",
    "       .withColumn(\"pickup_dayofweek\", dayofweek(\"lpep_pickup_datetime\")) \\\n",
    "       .withColumn(\"pickup_date\", to_date(\"lpep_pickup_datetime\"))\n"
   ]
  },
  {
   "cell_type": "code",
   "execution_count": 0,
   "metadata": {
    "application/vnd.databricks.v1+cell": {
     "cellMetadata": {
      "byteLimit": 2048000,
      "rowLimit": 10000
     },
     "inputWidgets": {},
     "nuid": "5b6456e4-0466-440c-85b6-3926b8ad8117",
     "showTitle": false,
     "tableResultSettingsMap": {},
     "title": ""
    }
   },
   "outputs": [],
   "source": [
    "# surrogate key for trip\n",
    "df_cleaned = df_cleaned.withColumn(\"trip_id\", md5(concat_ws(\"_\",\n",
    "    *[col(c).cast(\"string\") for c in dedup_cols]\n",
    ")))"
   ]
  },
  {
   "cell_type": "code",
   "execution_count": 0,
   "metadata": {
    "application/vnd.databricks.v1+cell": {
     "cellMetadata": {
      "byteLimit": 2048000,
      "rowLimit": 10000
     },
     "inputWidgets": {},
     "nuid": "605ccb00-bd5f-42cc-9a4a-500da895ea76",
     "showTitle": false,
     "tableResultSettingsMap": {},
     "title": ""
    }
   },
   "outputs": [],
   "source": [
    "# column renaming for readability\n",
    "df_cleaned=df_cleaned.withColumnRenamed(\"lpep_pickup_datetime\", \"pickup_datetime\") \\\n",
    "       .withColumnRenamed(\"lpep_dropoff_datetime\", \"dropoff_datetime\") \\\n",
    "       .withColumnRenamed(\"RatecodeID\", \"rate_code_id\") \\\n",
    "       .withColumnRenamed(\"PULocationID\", \"pickup_location_id\") \\\n",
    "       .withColumnRenamed(\"DOLocationID\", \"dropoff_location_id\") \\\n",
    "       .withColumnRenamed(\"VendorID\", \"vendor_id\")"
   ]
  },
  {
   "cell_type": "code",
   "execution_count": 0,
   "metadata": {
    "application/vnd.databricks.v1+cell": {
     "cellMetadata": {
      "byteLimit": 2048000,
      "rowLimit": 10000
     },
     "inputWidgets": {},
     "nuid": "df8e0a1f-6fc9-47f3-989f-66364d60557e",
     "showTitle": false,
     "tableResultSettingsMap": {},
     "title": ""
    }
   },
   "outputs": [],
   "source": [
    "# Merge logic for incremental load\n",
    "if spark.catalog.tableExists(\"nyc_taxi.silver.data\"):\n",
    "  delta_cleaned = DeltaTable.forName(spark, \"nyc_taxi.silver.data\")\n",
    "  delta_cleaned.alias(\"target\") \\\n",
    "    .merge(df_cleaned.alias(\"source\"), \"target.trip_id = source.trip_id\") \\\n",
    "    .whenMatchedUpdateAll() \\\n",
    "    .whenNotMatchedInsertAll() \\\n",
    "    .execute()\n",
    "\n",
    "else:\n",
    "    df_cleaned.write.format(\"delta\").mode(\"overwrite\").partitionBy(\"pickup_year\",\"pickup_month\").saveAsTable(\"nyc_taxi.silver.data\")"
   ]
  }
 ],
 "metadata": {
  "application/vnd.databricks.v1+notebook": {
   "computePreferences": null,
   "dashboards": [],
   "environmentMetadata": {
    "base_environment": "",
    "environment_version": "2"
   },
   "inputWidgetPreferences": null,
   "language": "python",
   "notebookMetadata": {
    "mostRecentlyExecutedCommandWithImplicitDF": {
     "commandId": 8785645503526723,
     "dataframes": [
      "_sqldf"
     ]
    },
    "pythonIndentUnit": 4
   },
   "notebookName": "silver_cleaning",
   "widgets": {}
  },
  "language_info": {
   "name": "python"
  }
 },
 "nbformat": 4,
 "nbformat_minor": 0
}
