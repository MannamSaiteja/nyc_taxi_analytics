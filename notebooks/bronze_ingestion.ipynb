{
 "cells": [
  {
   "cell_type": "code",
   "execution_count": 0,
   "metadata": {
    "application/vnd.databricks.v1+cell": {
     "cellMetadata": {
      "byteLimit": 2048000,
      "rowLimit": 10000
     },
     "inputWidgets": {},
     "nuid": "99e1de64-a2fe-4a95-bcd1-1008254a239f",
     "showTitle": false,
     "tableResultSettingsMap": {},
     "title": ""
    }
   },
   "outputs": [],
   "source": [
    "from pyspark.sql.functions import *\n",
    "from pyspark.sql.types import *"
   ]
  },
  {
   "cell_type": "code",
   "execution_count": 0,
   "metadata": {
    "application/vnd.databricks.v1+cell": {
     "cellMetadata": {
      "byteLimit": 2048000,
      "rowLimit": 10000
     },
     "inputWidgets": {},
     "nuid": "b907c651-d59d-4b61-a02c-bc8306887ddc",
     "showTitle": false,
     "tableResultSettingsMap": {},
     "title": ""
    }
   },
   "outputs": [],
   "source": [
    "# read widget parameter (this will be empty if not backfill)\n",
    "dbutils.widgets.text(\"file_path\", \"\")\n",
    "file_path = dbutils.widgets.get(\"file_path\")"
   ]
  },
  {
   "cell_type": "code",
   "execution_count": 0,
   "metadata": {
    "application/vnd.databricks.v1+cell": {
     "cellMetadata": {
      "byteLimit": 2048000,
      "rowLimit": 10000
     },
     "inputWidgets": {},
     "nuid": "b62217e8-a993-4db8-a222-d2c3765cf930",
     "showTitle": false,
     "tableResultSettingsMap": {},
     "title": ""
    }
   },
   "outputs": [],
   "source": [
    "# new files detection in raw folder\n",
    "files_info = dbutils.fs.ls(\"gs://nyc_taxi_analysis_project/raw/\")\n",
    "file_paths = [f.path for f in files_info if f.path.endswith(\".parquet\")]\n",
    "processed_files = spark.table(\"nyc_taxi.bronze.metadata_processed_files\")\\\n",
    "    .select(\"file_name\").collect()\n",
    "processed_file_names = [row.file_name for row in processed_files]\n",
    "new_files = [f for f in file_paths if f not in processed_file_names]"
   ]
  },
  {
   "cell_type": "code",
   "execution_count": 0,
   "metadata": {
    "application/vnd.databricks.v1+cell": {
     "cellMetadata": {
      "byteLimit": 2048000,
      "rowLimit": 10000
     },
     "inputWidgets": {},
     "nuid": "d4d14dd8-5787-495a-8fad-7a01eae6f5a3",
     "showTitle": false,
     "tableResultSettingsMap": {},
     "title": ""
    }
   },
   "outputs": [],
   "source": [
    "# ingestion logic(ingest new files or backfill)\n",
    "if file_path:\n",
    "    print(f'backfill: {file_path}')\n",
    "    file_list = [f.strip() for f in file_path.split(\",\")]\n",
    "    files_to_ingest=[file_path]\n",
    "else:    \n",
    "    files_to_ingest = new_files"
   ]
  },
  {
   "cell_type": "code",
   "execution_count": 0,
   "metadata": {
    "application/vnd.databricks.v1+cell": {
     "cellMetadata": {},
     "inputWidgets": {},
     "nuid": "e2cb8dcc-2cec-4d1e-a074-db342d55f898",
     "showTitle": false,
     "tableResultSettingsMap": {},
     "title": ""
    }
   },
   "outputs": [],
   "source": [
    "expected_schema = spark.table(\"nyc_taxi.bronze.data\").schema\n",
    "\n",
    "def align_schema(df, target_schema):\n",
    "    for field in target_schema:\n",
    "        if field.name in df.columns:\n",
    "            df = df.withColumn(field.name, col(field.name).cast(field.dataType))\n",
    "    return df"
   ]
  },
  {
   "cell_type": "code",
   "execution_count": 0,
   "metadata": {
    "application/vnd.databricks.v1+cell": {
     "cellMetadata": {
      "byteLimit": 2048000,
      "rowLimit": 10000
     },
     "inputWidgets": {},
     "nuid": "308a97b7-fe46-4f61-9b6e-1a147cb8cd81",
     "showTitle": false,
     "tableResultSettingsMap": {},
     "title": ""
    }
   },
   "outputs": [],
   "source": [
    "for fpath in files_to_ingest:\n",
    "    bronze=spark.read.format('parquet').load(fpath)\n",
    "    bronze = bronze.withColumn(\"pickup_year\", year(\"lpep_pickup_datetime\")) \\\n",
    "        .withColumn(\"pickup_month\", month(\"lpep_pickup_datetime\")) \\\n",
    "        .withColumn(\"source_file\", col(\"_metadata.file_path\")) \\\n",
    "        .withColumn(\"ingestion_time\", current_timestamp())\n",
    "    bronze=align_schema(bronze, expected_schema)\n",
    "    bronze.write.mode('append').format('delta').partitionBy('pickup_year','pickup_month').saveAsTable('nyc_taxi.bronze.data')\n",
    "    spark.createDataFrame([(fpath,)], [\"file_name\"]) \\\n",
    "         .write.mode(\"append\").saveAsTable(\"nyc_taxi.bronze.metadata_processed_files\")"
   ]
  },
  {
   "cell_type": "code",
   "execution_count": 0,
   "metadata": {
    "application/vnd.databricks.v1+cell": {
     "cellMetadata": {
      "byteLimit": 2048000,
      "implicitDf": true,
      "rowLimit": 10000
     },
     "inputWidgets": {},
     "nuid": "e6c81cf6-ad78-4821-aa4c-9a1e32fdf5dd",
     "showTitle": false,
     "tableResultSettingsMap": {},
     "title": ""
    }
   },
   "outputs": [],
   "source": [
    "%sql\n",
    "select distinct * from nyc_taxi.bronze.metadata_processed_files"
   ]
  }
 ],
 "metadata": {
  "application/vnd.databricks.v1+notebook": {
   "computePreferences": null,
   "dashboards": [],
   "environmentMetadata": {
    "base_environment": "",
    "environment_version": "2"
   },
   "inputWidgetPreferences": null,
   "language": "python",
   "notebookMetadata": {
    "mostRecentlyExecutedCommandWithImplicitDF": {
     "commandId": 6069095586193710,
     "dataframes": [
      "_sqldf"
     ]
    },
    "pythonIndentUnit": 4
   },
   "notebookName": "bronze_ingestion",
   "widgets": {}
  },
  "language_info": {
   "name": "python"
  }
 },
 "nbformat": 4,
 "nbformat_minor": 0
}
