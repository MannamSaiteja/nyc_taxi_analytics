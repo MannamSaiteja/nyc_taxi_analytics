{
 "cells": [
  {
   "cell_type": "code",
   "execution_count": 0,
   "metadata": {
    "application/vnd.databricks.v1+cell": {
     "cellMetadata": {
      "byteLimit": 2048000,
      "rowLimit": 10000
     },
     "inputWidgets": {},
     "nuid": "99e1de64-a2fe-4a95-bcd1-1008254a239f",
     "showTitle": false,
     "tableResultSettingsMap": {},
     "title": ""
    }
   },
   "outputs": [],
   "source": [
    "from pyspark.sql.functions import *\n",
    "from pyspark.sql.types import *"
   ]
  },
  {
   "cell_type": "code",
   "execution_count": 0,
   "metadata": {
    "application/vnd.databricks.v1+cell": {
     "cellMetadata": {
      "byteLimit": 2048000,
      "rowLimit": 10000
     },
     "inputWidgets": {},
     "nuid": "b62217e8-a993-4db8-a222-d2c3765cf930",
     "showTitle": false,
     "tableResultSettingsMap": {},
     "title": ""
    }
   },
   "outputs": [],
   "source": [
    "# new files detection in raw folder\n",
    "files_info = dbutils.fs.ls(\"gs://nyc_taxi_analysis_project/raw/\")\n",
    "file_paths = [f.path for f in files_info if f.path.endswith(\".parquet\")]\n",
    "processed_files = spark.table(\"nyc_taxi.bronze.metadata_processed_files\")\\\n",
    "    .select(\"file_name\").collect()\n",
    "processed_file_names = [row.file_name for row in processed_files]\n",
    "new_files = [f for f in file_paths if f not in processed_file_names]"
   ]
  },
  {
   "cell_type": "code",
   "execution_count": 0,
   "metadata": {
    "application/vnd.databricks.v1+cell": {
     "cellMetadata": {
      "byteLimit": 2048000,
      "rowLimit": 10000
     },
     "inputWidgets": {},
     "nuid": "308a97b7-fe46-4f61-9b6e-1a147cb8cd81",
     "showTitle": false,
     "tableResultSettingsMap": {},
     "title": ""
    }
   },
   "outputs": [],
   "source": [
    "bronze=spark.read.format('parquet').load(new_files)"
   ]
  },
  {
   "cell_type": "code",
   "execution_count": 0,
   "metadata": {
    "application/vnd.databricks.v1+cell": {
     "cellMetadata": {
      "byteLimit": 2048000,
      "rowLimit": 10000
     },
     "inputWidgets": {},
     "nuid": "277efa21-c70a-42c7-a933-d76d0778f9a9",
     "showTitle": false,
     "tableResultSettingsMap": {},
     "title": ""
    }
   },
   "outputs": [],
   "source": [
    "# adding metadata\n",
    "bronze = bronze.withColumn(\"pickup_year\", year(\"lpep_pickup_datetime\")) \\\n",
    "    .withColumn(\"pickup_month\", month(\"lpep_pickup_datetime\")) \\\n",
    "    .withColumn(\"source_file\", col(\"_metadata.file_path\")) \\\n",
    "    .withColumn(\"ingestion_time\", current_timestamp())"
   ]
  },
  {
   "cell_type": "code",
   "execution_count": 0,
   "metadata": {
    "application/vnd.databricks.v1+cell": {
     "cellMetadata": {
      "byteLimit": 2048000,
      "rowLimit": 10000
     },
     "inputWidgets": {},
     "nuid": "44192d8b-1c53-483c-9bb2-ed9de740e654",
     "showTitle": false,
     "tableResultSettingsMap": {},
     "title": ""
    },
    "jupyter": {
     "outputs_hidden": true
    }
   },
   "outputs": [],
   "source": [
    "bronze.write.mode('append').format('delta').partitionBy('pickup_year','pickup_month').saveAsTable('nyc_taxi.bronze.data')"
   ]
  },
  {
   "cell_type": "code",
   "execution_count": 0,
   "metadata": {
    "application/vnd.databricks.v1+cell": {
     "cellMetadata": {
      "byteLimit": 2048000,
      "rowLimit": 10000
     },
     "inputWidgets": {},
     "nuid": "bfb08b56-c4c7-4da3-aede-4207215d1821",
     "showTitle": false,
     "tableResultSettingsMap": {},
     "title": ""
    }
   },
   "outputs": [],
   "source": [
    "df_processed=bronze.select('source_file').distinct()\n",
    "df_processed=df_processed.withColumnRenamed('source_file','file_name')\n",
    "df_processed.write.mode('append').format('delta').saveAsTable('nyc_taxi.bronze.metadata_processed_files')\n"
   ]
  }
 ],
 "metadata": {
  "application/vnd.databricks.v1+notebook": {
   "computePreferences": null,
   "dashboards": [],
   "environmentMetadata": {
    "base_environment": "",
    "environment_version": "2"
   },
   "inputWidgetPreferences": null,
   "language": "python",
   "notebookMetadata": {
    "mostRecentlyExecutedCommandWithImplicitDF": {
     "commandId": 6069095586193548,
     "dataframes": [
      "_sqldf"
     ]
    },
    "pythonIndentUnit": 4
   },
   "notebookName": "bronze_ingestion",
   "widgets": {}
  },
  "language_info": {
   "name": "python"
  }
 },
 "nbformat": 4,
 "nbformat_minor": 0
}
