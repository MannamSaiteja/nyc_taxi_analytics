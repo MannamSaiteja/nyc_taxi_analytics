{
 "cells": [
  {
   "cell_type": "code",
   "execution_count": 0,
   "metadata": {
    "application/vnd.databricks.v1+cell": {
     "cellMetadata": {
      "byteLimit": 2048000,
      "rowLimit": 10000
     },
     "inputWidgets": {},
     "nuid": "8cf03833-3b5c-47e9-b199-a9969b3b03ef",
     "showTitle": false,
     "tableResultSettingsMap": {},
     "title": ""
    }
   },
   "outputs": [],
   "source": [
    "from pyspark.sql.functions import *\n",
    "from pyspark.sql.types import *\n",
    "import pandas as pd"
   ]
  },
  {
   "cell_type": "code",
   "execution_count": 0,
   "metadata": {
    "application/vnd.databricks.v1+cell": {
     "cellMetadata": {
      "byteLimit": 2048000,
      "rowLimit": 10000
     },
     "inputWidgets": {},
     "nuid": "92042c7f-c32f-4c9f-91ae-8d4d76928f61",
     "showTitle": false,
     "tableResultSettingsMap": {},
     "title": ""
    }
   },
   "outputs": [],
   "source": [
    "# creating vendor dimension\n",
    "dim_vendor = spark.createDataFrame([\n",
    "    (1, \"Creative Mobile Technologies, LLC\"),\n",
    "    (2, \"Curb Mobility, LLC\"),\n",
    "    (6, \"Myle Technologies Inc\")\n",
    "], [\"vendor_id\", \"vendor_name\"])\n",
    "\n",
    "dim_vendor.write.mode(\"overwrite\").format(\"delta\").saveAsTable(\"nyc_taxi.gold.dim_vendor\")"
   ]
  },
  {
   "cell_type": "code",
   "execution_count": 0,
   "metadata": {
    "application/vnd.databricks.v1+cell": {
     "cellMetadata": {
      "byteLimit": 2048000,
      "rowLimit": 10000
     },
     "inputWidgets": {},
     "nuid": "f27972d1-80ad-4838-b2c7-f14edbf7ef0b",
     "showTitle": false,
     "tableResultSettingsMap": {},
     "title": ""
    }
   },
   "outputs": [],
   "source": [
    "# creating rate code dimension\n",
    "dim_ratecode = spark.createDataFrame([\n",
    "    (1, \"Standard rate\"),\n",
    "    (2, \"JFK\"),\n",
    "    (3, \"Newark\"),\n",
    "    (4, \"Nassau or Westchester\"),\n",
    "    (5, \"Negotiated fare\"),\n",
    "    (6, \"Group ride\"),\n",
    "    (99, \"Null/Unknown\")\n",
    "], [\"ratecode_id\", \"ratecode_description\"])\n",
    "\n",
    "dim_ratecode.write.mode(\"overwrite\").format(\"delta\").saveAsTable(\"nyc_taxi.gold.dim_ratecode\")"
   ]
  },
  {
   "cell_type": "code",
   "execution_count": 0,
   "metadata": {
    "application/vnd.databricks.v1+cell": {
     "cellMetadata": {
      "byteLimit": 2048000,
      "rowLimit": 10000
     },
     "inputWidgets": {},
     "nuid": "9475ba97-ae48-4ee6-b35a-4b5a58153f5e",
     "showTitle": false,
     "tableResultSettingsMap": {},
     "title": ""
    }
   },
   "outputs": [],
   "source": [
    "# creating payment dimension\n",
    "dim_payment = spark.createDataFrame([\n",
    "    (0, \"Flex Fare trip\"),\n",
    "    (1, \"Credit card\"),\n",
    "    (2, \"Cash\"),\n",
    "    (3, \"No charge\"),\n",
    "    (4, \"Dispute\"),\n",
    "    (5, \"Unknown\"),\n",
    "    (6, \"Voided trip\")\n",
    "], [\"payment_type\", \"payment_description\"])\n",
    "\n",
    "dim_payment.write.mode(\"overwrite\").format(\"delta\").saveAsTable(\"nyc_taxi.gold.dim_payment_type\")"
   ]
  },
  {
   "cell_type": "code",
   "execution_count": 0,
   "metadata": {
    "application/vnd.databricks.v1+cell": {
     "cellMetadata": {
      "byteLimit": 2048000,
      "rowLimit": 10000
     },
     "inputWidgets": {},
     "nuid": "08d3c1c6-0483-4650-9fcb-eb032d3c87a1",
     "showTitle": false,
     "tableResultSettingsMap": {},
     "title": ""
    }
   },
   "outputs": [],
   "source": [
    "# creating trip type dimension\n",
    "dim_trip_type = spark.createDataFrame([\n",
    "    (1, \"Street-hail\"),\n",
    "    (2, \"Dispatch\")\n",
    "], [\"trip_type\", \"trip_type_description\"])\n",
    "\n",
    "dim_trip_type.write.mode(\"overwrite\").format(\"delta\").saveAsTable(\"nyc_taxi.gold.dim_trip_type\")"
   ]
  },
  {
   "cell_type": "code",
   "execution_count": 0,
   "metadata": {
    "application/vnd.databricks.v1+cell": {
     "cellMetadata": {
      "byteLimit": 2048000,
      "rowLimit": 10000
     },
     "inputWidgets": {},
     "nuid": "075e68da-3945-4187-9ebf-3335a5238362",
     "showTitle": false,
     "tableResultSettingsMap": {},
     "title": ""
    }
   },
   "outputs": [],
   "source": [
    "# creating zone dimension\n",
    "df_zone = spark.read.csv(\"gs://nyc_taxi_analysis_project/taxi_zone_lookup.csv\", header=True, inferSchema=True)\n",
    "df_zone = df_zone.withColumnRenamed(\"LocationID\", \"location_id\") \\\n",
    "    .withColumnRenamed(\"Borough\", \"borough\") \\\n",
    "    .withColumnRenamed(\"Zone\", \"zone\") \\\n",
    "    .withColumnRenamed(\"service_zone\", \"service_zone\")\n",
    "df_zone.write.mode(\"overwrite\").format(\"delta\").saveAsTable(\"nyc_taxi.gold.dim_location\")"
   ]
  },
  {
   "cell_type": "markdown",
   "metadata": {
    "application/vnd.databricks.v1+cell": {
     "cellMetadata": {},
     "inputWidgets": {},
     "nuid": "9843a49e-82cc-4305-a4da-4ef3334b94bf",
     "showTitle": false,
     "tableResultSettingsMap": {},
     "title": ""
    }
   },
   "source": [
    "### **FACT MODELLING**"
   ]
  },
  {
   "cell_type": "code",
   "execution_count": 0,
   "metadata": {
    "application/vnd.databricks.v1+cell": {
     "cellMetadata": {
      "byteLimit": 2048000,
      "rowLimit": 10000
     },
     "inputWidgets": {},
     "nuid": "e5b49ec3-cce7-4269-b44f-f32f9aaac240",
     "showTitle": false,
     "tableResultSettingsMap": {},
     "title": ""
    }
   },
   "outputs": [],
   "source": [
    "df_silver = spark.table(\"nyc_taxi.silver.data\")"
   ]
  },
  {
   "cell_type": "code",
   "execution_count": 0,
   "metadata": {
    "application/vnd.databricks.v1+cell": {
     "cellMetadata": {
      "byteLimit": 2048000,
      "rowLimit": 10000
     },
     "inputWidgets": {},
     "nuid": "6c9e43a2-e3a0-46a4-88d4-e24387a53e69",
     "showTitle": false,
     "tableResultSettingsMap": {},
     "title": ""
    }
   },
   "outputs": [],
   "source": [
    "df_fact=df_silver.drop('source_file','ingestion_time')"
   ]
  },
  {
   "cell_type": "code",
   "execution_count": 0,
   "metadata": {
    "application/vnd.databricks.v1+cell": {
     "cellMetadata": {
      "byteLimit": 2048000,
      "rowLimit": 10000
     },
     "inputWidgets": {},
     "nuid": "f6ad75f4-7224-4e08-a272-f5278427175e",
     "showTitle": false,
     "tableResultSettingsMap": {},
     "title": ""
    }
   },
   "outputs": [],
   "source": [
    "df_fact.write.format(\"delta\") \\\n",
    "    .mode(\"overwrite\") \\\n",
    "    .partitionBy(\"pickup_year\", \"pickup_month\") \\\n",
    "    .saveAsTable(\"nyc_taxi.gold.fact_trips\")"
   ]
  }
 ],
 "metadata": {
  "application/vnd.databricks.v1+notebook": {
   "computePreferences": null,
   "dashboards": [],
   "environmentMetadata": {
    "base_environment": "",
    "environment_version": "2"
   },
   "inputWidgetPreferences": null,
   "language": "python",
   "notebookMetadata": {
    "mostRecentlyExecutedCommandWithImplicitDF": {
     "commandId": 8785645503526698,
     "dataframes": [
      "_sqldf"
     ]
    },
    "pythonIndentUnit": 4
   },
   "notebookName": "modelling",
   "widgets": {}
  },
  "language_info": {
   "name": "python"
  }
 },
 "nbformat": 4,
 "nbformat_minor": 0
}
