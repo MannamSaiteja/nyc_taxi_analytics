{
 "cells": [
  {
   "cell_type": "markdown",
   "metadata": {
    "application/vnd.databricks.v1+cell": {
     "cellMetadata": {},
     "inputWidgets": {},
     "nuid": "2c83883e-ffa1-4e0d-8b4c-bc7784834338",
     "showTitle": false,
     "tableResultSettingsMap": {},
     "title": ""
    }
   },
   "source": [
    "### monthly revenue mart"
   ]
  },
  {
   "cell_type": "code",
   "execution_count": 0,
   "metadata": {
    "application/vnd.databricks.v1+cell": {
     "cellMetadata": {
      "byteLimit": 2048000,
      "implicitDf": true,
      "rowLimit": 10000
     },
     "inputWidgets": {},
     "nuid": "185d101e-a1cd-4dc0-a09b-7c326a1af0fb",
     "showTitle": false,
     "tableResultSettingsMap": {},
     "title": ""
    }
   },
   "outputs": [],
   "source": [
    "%sql\n",
    "-- To track how much revenue is generated each month\n",
    "create or replace table nyc_taxi.gold.monthly_revenue_mart as\n",
    "select\n",
    "  vendor_name,\n",
    "  pickup_year,\n",
    "  pickup_month,\n",
    "  count(*) as total_trips,\n",
    "  round(sum(fare_amount),2) AS total_fare,\n",
    "  round(sum(tip_amount),2) AS total_tips,\n",
    "  round(sum(total_amount),2) AS total_revenue\n",
    "FROM nyc_taxi.gold.fact_trips\n",
    "join nyc_taxi.gold.dim_vendor on fact_trips.vendor_id = dim_vendor.vendor_id\n",
    "where pickup_year between 2021 and 2025\n",
    "GROUP BY vendor_name,pickup_year, pickup_month\n",
    "order by vendor_name,pickup_year, pickup_month;"
   ]
  },
  {
   "cell_type": "markdown",
   "metadata": {
    "application/vnd.databricks.v1+cell": {
     "cellMetadata": {},
     "inputWidgets": {},
     "nuid": "adaba789-717f-4698-bc7e-b9233ef1fbe0",
     "showTitle": false,
     "tableResultSettingsMap": {},
     "title": ""
    }
   },
   "source": [
    "### average speed by hour mart"
   ]
  },
  {
   "cell_type": "code",
   "execution_count": 0,
   "metadata": {
    "application/vnd.databricks.v1+cell": {
     "cellMetadata": {
      "byteLimit": 2048000,
      "implicitDf": true,
      "rowLimit": 10000
     },
     "inputWidgets": {},
     "nuid": "977bc212-5b20-40c7-8116-65b73f8e0c4f",
     "showTitle": false,
     "tableResultSettingsMap": {},
     "title": ""
    }
   },
   "outputs": [],
   "source": [
    "%sql\n",
    "--- To analyze trip speed trends by hour to identify traffic patterns\n",
    "CREATE OR REPLACE TABLE nyc_taxi.gold.avg_speed_by_hour_mart AS\n",
    "SELECT\n",
    "  pickup_hour,\n",
    "  ROUND(AVG(trip_speed_mph), 2) AS avg_speed_mph,\n",
    "  COUNT(*) AS num_trips\n",
    "FROM nyc_taxi.gold.fact_trips where trip_speed_mph BETWEEN 0 AND 150\n",
    "GROUP BY pickup_hour\n",
    "ORDER BY pickup_hour;"
   ]
  },
  {
   "cell_type": "markdown",
   "metadata": {
    "application/vnd.databricks.v1+cell": {
     "cellMetadata": {},
     "inputWidgets": {},
     "nuid": "8c5547ee-b115-4df6-ad88-b9e4ac7ae293",
     "showTitle": false,
     "tableResultSettingsMap": {},
     "title": ""
    }
   },
   "source": [
    "### Zone to Zone Trip Volume Mart"
   ]
  },
  {
   "cell_type": "code",
   "execution_count": 0,
   "metadata": {
    "application/vnd.databricks.v1+cell": {
     "cellMetadata": {
      "byteLimit": 2048000,
      "implicitDf": true,
      "rowLimit": 10000
     },
     "inputWidgets": {},
     "nuid": "494e3774-5b18-4ab4-b58a-f36db869ac12",
     "showTitle": false,
     "tableResultSettingsMap": {},
     "title": ""
    }
   },
   "outputs": [],
   "source": [
    "%sql\n",
    "CREATE OR REPLACE TABLE nyc_taxi.gold.zone_to_zone_trip_volume_mart AS\n",
    "SELECT\n",
    "    f.pickup_year,\n",
    "    f.pickup_month,\n",
    "    pu.borough AS pickup_borough,\n",
    "    do.borough AS dropoff_borough,\n",
    "    t.trip_type_description,\n",
    "    COUNT(*) AS total_trips,\n",
    "    ROUND(AVG(f.passenger_count), 2) AS avg_passenger_count\n",
    "FROM nyc_taxi.gold.fact_trips f\n",
    "JOIN nyc_taxi.gold.dim_location pu ON f.pickup_location_id = pu.location_id\n",
    "JOIN nyc_taxi.gold.dim_location do ON f.dropoff_location_id = do.location_id\n",
    "JOIN nyc_taxi.gold.dim_trip_type t ON f.trip_type = t.trip_type\n",
    "where pickup_year between 2021 and 2025 and pu.borough not in ('Unknown','N/A') and do.borough not in ('Unknown','N/A')\n",
    "GROUP BY\n",
    "    f.pickup_year,\n",
    "    f.pickup_month,\n",
    "    t.trip_type_description,\n",
    "    pu.borough,\n",
    "    do.borough\n",
    "ORDER BY total_trips desc;"
   ]
  },
  {
   "cell_type": "markdown",
   "metadata": {
    "application/vnd.databricks.v1+cell": {
     "cellMetadata": {},
     "inputWidgets": {},
     "nuid": "fddf0a49-cb7c-462b-b812-edb278fe609a",
     "showTitle": true,
     "tableResultSettingsMap": {},
     "title": ""
    }
   },
   "source": [
    "### Weekday vs Weekend Trip Patterns"
   ]
  },
  {
   "cell_type": "code",
   "execution_count": 0,
   "metadata": {
    "application/vnd.databricks.v1+cell": {
     "cellMetadata": {
      "byteLimit": 2048000,
      "implicitDf": true,
      "rowLimit": 10000
     },
     "inputWidgets": {},
     "nuid": "9583164a-4561-4f8e-afb9-7e2ca2df827c",
     "showTitle": false,
     "tableResultSettingsMap": {},
     "title": ""
    }
   },
   "outputs": [],
   "source": [
    "%sql\n",
    "--- To compare trip behavior across weekdays and weekends\n",
    "CREATE OR REPLACE TABLE nyc_taxi.gold.weekday_vs_weekend_mart AS\n",
    "SELECT\n",
    "  CASE \n",
    "    WHEN pickup_dayofweek IN (1, 7) THEN 'Weekend'\n",
    "    ELSE 'Weekday'\n",
    "  END AS day_type,\n",
    "  COUNT(*) AS trip_count,\n",
    "  ROUND(AVG(trip_distance), 2) AS avg_distance,\n",
    "  ROUND(AVG(total_amount), 2) AS avg_revenue\n",
    "FROM nyc_taxi.gold.fact_trips\n",
    "GROUP BY day_type;"
   ]
  }
 ],
 "metadata": {
  "application/vnd.databricks.v1+notebook": {
   "computePreferences": null,
   "dashboards": [],
   "environmentMetadata": {
    "base_environment": "",
    "environment_version": "2"
   },
   "inputWidgetPreferences": null,
   "language": "python",
   "notebookMetadata": {
    "mostRecentlyExecutedCommandWithImplicitDF": {
     "commandId": 5572783950070379,
     "dataframes": [
      "_sqldf"
     ]
    },
    "pythonIndentUnit": 4
   },
   "notebookName": "data_marts",
   "widgets": {}
  },
  "language_info": {
   "name": "python"
  }
 },
 "nbformat": 4,
 "nbformat_minor": 0
}
