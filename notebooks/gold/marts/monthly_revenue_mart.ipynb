{
 "cells": [
  {
   "cell_type": "code",
   "execution_count": 0,
   "metadata": {
    "application/vnd.databricks.v1+cell": {
     "cellMetadata": {
      "byteLimit": 2048000,
      "implicitDf": true,
      "rowLimit": 10000
     },
     "inputWidgets": {},
     "nuid": "010a3972-cdd0-4d1b-b5a1-2ea4a149c865",
     "showTitle": false,
     "tableResultSettingsMap": {},
     "title": ""
    }
   },
   "outputs": [],
   "source": [
    "%sql\n",
    "create or replace table nyc_taxi.gold.monthly_revenue_mart as\n",
    "select\n",
    "  pickup_year,\n",
    "  pickup_month,\n",
    "  count(*) as total_trips,\n",
    "  round(sum(fare_amount),2) AS total_fare,\n",
    "  round(sum(tip_amount),2) AS total_tips,\n",
    "  round(sum(total_amount),2) AS total_revenue\n",
    "FROM nyc_taxi.gold.fact_trips\n",
    "GROUP BY pickup_year, pickup_month;"
   ]
  }
 ],
 "metadata": {
  "application/vnd.databricks.v1+notebook": {
   "computePreferences": null,
   "dashboards": [],
   "environmentMetadata": {
    "base_environment": "",
    "environment_version": "2"
   },
   "inputWidgetPreferences": null,
   "language": "python",
   "notebookMetadata": {
    "mostRecentlyExecutedCommandWithImplicitDF": {
     "commandId": 8785645503526721,
     "dataframes": [
      "_sqldf"
     ]
    },
    "pythonIndentUnit": 4
   },
   "notebookName": "monthly_revenue_mart",
   "widgets": {}
  },
  "language_info": {
   "name": "python"
  }
 },
 "nbformat": 4,
 "nbformat_minor": 0
}
