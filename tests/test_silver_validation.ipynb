{
 "cells": [
  {
   "cell_type": "code",
   "execution_count": 0,
   "metadata": {
    "application/vnd.databricks.v1+cell": {
     "cellMetadata": {
      "byteLimit": 2048000,
      "rowLimit": 10000
     },
     "inputWidgets": {},
     "nuid": "56d0e1ce-2718-4188-b5bf-3d26ffb21bc7",
     "showTitle": false,
     "tableResultSettingsMap": {},
     "title": ""
    }
   },
   "outputs": [],
   "source": [
    "%run ../utils/validation"
   ]
  },
  {
   "cell_type": "code",
   "execution_count": 0,
   "metadata": {
    "application/vnd.databricks.v1+cell": {
     "cellMetadata": {
      "byteLimit": 2048000,
      "rowLimit": 10000
     },
     "inputWidgets": {},
     "nuid": "521840e9-0791-47e0-b9b1-0f3b5b7dd453",
     "showTitle": false,
     "tableResultSettingsMap": {},
     "title": ""
    }
   },
   "outputs": [],
   "source": [
    "import pytest\n",
    "from pyspark.sql.functions import *"
   ]
  },
  {
   "cell_type": "code",
   "execution_count": 0,
   "metadata": {
    "application/vnd.databricks.v1+cell": {
     "cellMetadata": {
      "byteLimit": 2048000,
      "rowLimit": 10000
     },
     "inputWidgets": {},
     "nuid": "f6deac65-83e7-44a7-895d-09c1d4b4ea55",
     "showTitle": false,
     "tableResultSettingsMap": {},
     "title": ""
    }
   },
   "outputs": [],
   "source": [
    "df = spark.table(\"nyc_taxi.silver.data\")"
   ]
  },
  {
   "cell_type": "code",
   "execution_count": 0,
   "metadata": {
    "application/vnd.databricks.v1+cell": {
     "cellMetadata": {
      "byteLimit": 2048000,
      "rowLimit": 10000
     },
     "inputWidgets": {},
     "nuid": "0af14b7f-2a5f-4d31-a892-ee4c31db9fd6",
     "showTitle": false,
     "tableResultSettingsMap": {},
     "title": ""
    }
   },
   "outputs": [],
   "source": [
    "df.printSchema()"
   ]
  },
  {
   "cell_type": "code",
   "execution_count": 0,
   "metadata": {
    "application/vnd.databricks.v1+cell": {
     "cellMetadata": {
      "byteLimit": 2048000,
      "rowLimit": 10000
     },
     "inputWidgets": {},
     "nuid": "d3f47b16-a995-4e32-9220-b386b0dbc335",
     "showTitle": false,
     "tableResultSettingsMap": {},
     "title": ""
    }
   },
   "outputs": [],
   "source": [
    "def test_no_nulls_in_required_columns():\n",
    "    null_counts_df = null_check(df)\n",
    "    null_counts = null_counts_df.collect()[0].asDict()\n",
    "    required_cols = [\n",
    "        \"vendor_id\", \"pickup_datetime\", \"dropoff_datetime\",\n",
    "        \"passenger_count\", \"trip_distance\", \"fare_amount\", \"pickup_month\", \"trip_id\"\n",
    "    ]\n",
    "    for col_name in required_cols:\n",
    "        assert null_counts[f\"{col_name}_null_count\"] == 0, f\"{col_name} has nulls!\"\n",
    "    print(\"test_no_nulls_in_required_columns passed successfully!\")\n",
    "test_no_nulls_in_required_columns()"
   ]
  },
  {
   "cell_type": "code",
   "execution_count": 0,
   "metadata": {
    "application/vnd.databricks.v1+cell": {
     "cellMetadata": {
      "byteLimit": 2048000,
      "rowLimit": 10000
     },
     "inputWidgets": {},
     "nuid": "7f44ed24-36e3-4b8b-8133-14bcb75538f7",
     "showTitle": false,
     "tableResultSettingsMap": {},
     "title": ""
    }
   },
   "outputs": [],
   "source": [
    "def test_no_duplicate_trip_ids():\n",
    "    dup_df = check_duplicates(df, [\"trip_id\"])\n",
    "    assert dup_df.count() == 0, \"Duplicate trip_id values found!\"\n",
    "    print(\"test_no_duplicate_trip_ids passed successfully!\")\n",
    "test_no_duplicate_trip_ids()"
   ]
  },
  {
   "cell_type": "code",
   "execution_count": 0,
   "metadata": {
    "application/vnd.databricks.v1+cell": {
     "cellMetadata": {
      "byteLimit": 2048000,
      "rowLimit": 10000
     },
     "inputWidgets": {},
     "nuid": "7a0a3e56-f078-4068-8a0c-caf1b3c6bc7d",
     "showTitle": false,
     "tableResultSettingsMap": {},
     "title": ""
    }
   },
   "outputs": [],
   "source": [
    "def test_valid_trip_distance():\n",
    "    invalids = check_value_range(df, \"trip_distance\", 0.01, 500)\n",
    "    assert invalids.count() == 0, \"Found invalid trip_distance values\"\n",
    "    print(\"test_valid_trip_distance passed successfully!\")\n",
    "test_valid_trip_distance()"
   ]
  },
  {
   "cell_type": "code",
   "execution_count": 0,
   "metadata": {
    "application/vnd.databricks.v1+cell": {
     "cellMetadata": {
      "byteLimit": 2048000,
      "rowLimit": 10000
     },
     "inputWidgets": {},
     "nuid": "3e6f323b-5b7a-416d-9a2a-ed7f4d5846e5",
     "showTitle": false,
     "tableResultSettingsMap": {},
     "title": ""
    }
   },
   "outputs": [],
   "source": [
    "def test_fare_amount_non_negative():\n",
    "    invalids = check_value_range(df, \"fare_amount\", 0, float('inf'))\n",
    "    assert invalids.count() == 0, \"Found negative fare_amount\"\n",
    "    print(\"test_fare_amount_non_negative passed successfully!\")\n",
    "test_fare_amount_non_negative()"
   ]
  },
  {
   "cell_type": "code",
   "execution_count": 0,
   "metadata": {
    "application/vnd.databricks.v1+cell": {
     "cellMetadata": {
      "byteLimit": 2048000,
      "rowLimit": 10000
     },
     "inputWidgets": {},
     "nuid": "aa306c41-b0f5-4d26-99e4-db08c8d036a4",
     "showTitle": false,
     "tableResultSettingsMap": {},
     "title": ""
    }
   },
   "outputs": [],
   "source": [
    "def test_minimum_row_count():\n",
    "    assert count_rows(df) > 0, \"Silver table is empty!\"\n",
    "    print(\"test_minimum_row_count passed successfully!\")\n",
    "test_minimum_row_count()"
   ]
  }
 ],
 "metadata": {
  "application/vnd.databricks.v1+notebook": {
   "computePreferences": null,
   "dashboards": [],
   "environmentMetadata": {
    "base_environment": "",
    "environment_version": "2"
   },
   "inputWidgetPreferences": null,
   "language": "python",
   "notebookMetadata": {
    "pythonIndentUnit": 4
   },
   "notebookName": "test_silver_validation",
   "widgets": {}
  },
  "language_info": {
   "name": "python"
  }
 },
 "nbformat": 4,
 "nbformat_minor": 0
}
