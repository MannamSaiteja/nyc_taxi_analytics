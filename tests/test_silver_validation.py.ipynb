{
 "cells": [
  {
   "cell_type": "code",
   "execution_count": 0,
   "metadata": {
    "application/vnd.databricks.v1+cell": {
     "cellMetadata": {
      "byteLimit": 2048000,
      "rowLimit": 10000
     },
     "inputWidgets": {},
     "nuid": "521840e9-0791-47e0-b9b1-0f3b5b7dd453",
     "showTitle": false,
     "tableResultSettingsMap": {},
     "title": ""
    }
   },
   "outputs": [],
   "source": [
    "import pytest\n",
    "from pyspark.sql.functions import *"
   ]
  },
  {
   "cell_type": "code",
   "execution_count": 0,
   "metadata": {
    "application/vnd.databricks.v1+cell": {
     "cellMetadata": {
      "byteLimit": 2048000,
      "rowLimit": 10000
     },
     "inputWidgets": {},
     "nuid": "f6deac65-83e7-44a7-895d-09c1d4b4ea55",
     "showTitle": false,
     "tableResultSettingsMap": {},
     "title": ""
    }
   },
   "outputs": [],
   "source": [
    "df = spark.table(\"nyc_taxi.silver.data\")"
   ]
  },
  {
   "cell_type": "code",
   "execution_count": 0,
   "metadata": {
    "application/vnd.databricks.v1+cell": {
     "cellMetadata": {
      "byteLimit": 2048000,
      "rowLimit": 10000
     },
     "inputWidgets": {},
     "nuid": "d3f47b16-a995-4e32-9220-b386b0dbc335",
     "showTitle": false,
     "tableResultSettingsMap": {},
     "title": ""
    }
   },
   "outputs": [],
   "source": [
    "def test_no_nulls_in_required_columns():\n",
    "    required_cols = [\n",
    "        \"VendorID\", \"lpep_pickup_datetime\", \"lpep_dropoff_datetime\",\n",
    "        \"passenger_count\", \"trip_distance\", \"fare_amount\", \"pickup_month\", \"trip_id\"\n",
    "    ]\n",
    "    for col_name in required_cols:\n",
    "        null_count = df.filter(col(col_name).isNull()).count()\n",
    "        assert null_count == 0, f\"Column '{col_name}' has {null_count} nulls\""
   ]
  },
  {
   "cell_type": "code",
   "execution_count": 0,
   "metadata": {
    "application/vnd.databricks.v1+cell": {
     "cellMetadata": {
      "byteLimit": 2048000,
      "rowLimit": 10000
     },
     "inputWidgets": {},
     "nuid": "7f44ed24-36e3-4b8b-8133-14bcb75538f7",
     "showTitle": false,
     "tableResultSettingsMap": {},
     "title": ""
    }
   },
   "outputs": [],
   "source": [
    "def test_no_duplicate_trip_ids():\n",
    "    total_count = df.count()\n",
    "    distinct_count = df.select(\"trip_id\").distinct().count()\n",
    "    assert total_count == distinct_count, f\"Found {total_count - distinct_count} duplicate trip_id rows\"\n"
   ]
  },
  {
   "cell_type": "code",
   "execution_count": 0,
   "metadata": {
    "application/vnd.databricks.v1+cell": {
     "cellMetadata": {
      "byteLimit": 2048000,
      "rowLimit": 10000
     },
     "inputWidgets": {},
     "nuid": "7a0a3e56-f078-4068-8a0c-caf1b3c6bc7d",
     "showTitle": false,
     "tableResultSettingsMap": {},
     "title": ""
    }
   },
   "outputs": [],
   "source": [
    "def test_valid_trip_distance():\n",
    "    invalid_count = df.filter(col(\"trip_distance\") <= 0).count()\n",
    "    assert invalid_count == 0, f\"Found {invalid_count} rows with non-positive trip_distance\"\n"
   ]
  },
  {
   "cell_type": "code",
   "execution_count": 0,
   "metadata": {
    "application/vnd.databricks.v1+cell": {
     "cellMetadata": {
      "byteLimit": 2048000,
      "rowLimit": 10000
     },
     "inputWidgets": {},
     "nuid": "3e6f323b-5b7a-416d-9a2a-ed7f4d5846e5",
     "showTitle": false,
     "tableResultSettingsMap": {},
     "title": ""
    }
   },
   "outputs": [],
   "source": [
    "def test_fare_amount_non_negative():\n",
    "    invalid_count = df.filter(col(\"fare_amount\") < 0).count()\n",
    "    assert invalid_count == 0, f\"Found {invalid_count} rows with negative fare_amount\"\n"
   ]
  },
  {
   "cell_type": "code",
   "execution_count": 0,
   "metadata": {
    "application/vnd.databricks.v1+cell": {
     "cellMetadata": {
      "byteLimit": 2048000,
      "rowLimit": 10000
     },
     "inputWidgets": {},
     "nuid": "6f189add-c215-49d0-86a9-ae0e312d65a3",
     "showTitle": false,
     "tableResultSettingsMap": {},
     "title": ""
    }
   },
   "outputs": [],
   "source": [
    "def test_trip_speed_reasonable():\n",
    "    if \"trip_speed_mph\" in df.columns:\n",
    "        max_speed = df.agg({\"trip_speed_mph\": \"max\"}).collect()[0][0]\n",
    "        assert max_speed is None or max_speed <= 150, f\"Unrealistic trip speed detected: {max_speed} mph\""
   ]
  },
  {
   "cell_type": "code",
   "execution_count": 0,
   "metadata": {
    "application/vnd.databricks.v1+cell": {
     "cellMetadata": {
      "byteLimit": 2048000,
      "rowLimit": 10000
     },
     "inputWidgets": {},
     "nuid": "aa306c41-b0f5-4d26-99e4-db08c8d036a4",
     "showTitle": false,
     "tableResultSettingsMap": {},
     "title": ""
    }
   },
   "outputs": [],
   "source": [
    "def test_minimum_row_count():\n",
    "    assert df.count() > 0, \"Silver table is empty!\""
   ]
  },
  {
   "cell_type": "code",
   "execution_count": 0,
   "metadata": {
    "application/vnd.databricks.v1+cell": {
     "cellMetadata": {
      "byteLimit": 2048000,
      "rowLimit": 10000
     },
     "inputWidgets": {},
     "nuid": "6bd7dd48-cd97-4b7d-afd7-18b2b2fd3028",
     "showTitle": false,
     "tableResultSettingsMap": {},
     "title": ""
    }
   },
   "outputs": [],
   "source": [
    "def test_warning_trip_speed():\n",
    "    non_critical_field = \"trip_speed_mph\"\n",
    "    nulls = df.filter(col(non_critical_field).isNull()).count()\n",
    "    \n",
    "    if nulls > 10:\n",
    "        raise Warning(f\"⚠️ {nulls} nulls in {non_critical_field}. Investigate.\")\n",
    "    else:\n",
    "        print(f\"Only {nulls} nulls in {non_critical_field}, continuing.\")"
   ]
  }
 ],
 "metadata": {
  "application/vnd.databricks.v1+notebook": {
   "computePreferences": null,
   "dashboards": [],
   "environmentMetadata": {
    "base_environment": "",
    "environment_version": "2"
   },
   "inputWidgetPreferences": null,
   "language": "python",
   "notebookMetadata": {
    "pythonIndentUnit": 4
   },
   "notebookName": "test_silver_validation.py",
   "widgets": {}
  },
  "language_info": {
   "name": "python"
  }
 },
 "nbformat": 4,
 "nbformat_minor": 0
}
